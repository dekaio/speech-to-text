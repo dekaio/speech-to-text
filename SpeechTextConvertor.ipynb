{
  "nbformat": 4,
  "nbformat_minor": 0,
  "metadata": {
    "colab": {
      "name": "SpeechTextConvertor.ipynb",
      "provenance": [],
      "authorship_tag": "ABX9TyO5b7APq3uiQ8MQQnqMKx69",
      "include_colab_link": true
    },
    "kernelspec": {
      "name": "python3",
      "display_name": "Python 3"
    }
  },
  "cells": [
    {
      "cell_type": "markdown",
      "metadata": {
        "id": "view-in-github",
        "colab_type": "text"
      },
      "source": [
        "<a href=\"https://colab.research.google.com/github/dekaio/speech-to-text/blob/master/SpeechTextConvertor.ipynb\" target=\"_parent\"><img src=\"https://colab.research.google.com/assets/colab-badge.svg\" alt=\"Open In Colab\"/></a>"
      ]
    },
    {
      "cell_type": "code",
      "metadata": {
        "id": "eJkLC5xCUl00",
        "colab_type": "code",
        "colab": {
          "base_uri": "https://localhost:8080/",
          "height": 123
        },
        "outputId": "b4d0b543-93fb-4c58-e9af-ca4aff2e9ca3"
      },
      "source": [
        "pip install sounddevice\n"
      ],
      "execution_count": 1,
      "outputs": [
        {
          "output_type": "stream",
          "text": [
            "Collecting sounddevice\n",
            "  Downloading https://files.pythonhosted.org/packages/38/64/85c77c76354887a1736ae7dfe1876e66abbaa2138e4b0a2f9966292efb4d/sounddevice-0.4.0-py3-none-any.whl\n",
            "Requirement already satisfied: CFFI>=1.0 in /usr/local/lib/python3.6/dist-packages (from sounddevice) (1.14.1)\n",
            "Requirement already satisfied: pycparser in /usr/local/lib/python3.6/dist-packages (from CFFI>=1.0->sounddevice) (2.20)\n",
            "Installing collected packages: sounddevice\n",
            "Successfully installed sounddevice-0.4.0\n"
          ],
          "name": "stdout"
        }
      ]
    },
    {
      "cell_type": "code",
      "metadata": {
        "id": "biCekjiJegv3",
        "colab_type": "code",
        "colab": {}
      },
      "source": [
        ""
      ],
      "execution_count": null,
      "outputs": []
    }
  ]
}